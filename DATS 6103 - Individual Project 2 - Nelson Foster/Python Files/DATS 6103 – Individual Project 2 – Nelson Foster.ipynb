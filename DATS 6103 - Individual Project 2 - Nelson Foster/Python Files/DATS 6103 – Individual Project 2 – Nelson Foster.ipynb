{
 "cells": [
  {
   "cell_type": "code",
   "execution_count": 4,
   "metadata": {
    "collapsed": false
   },
   "outputs": [],
   "source": [
    "#DATS 6103 – Individual Project 2 – Nelson Foster\n",
    "# Ecological Footprint of Countries (EFC) and \n",
    "#Environmental Vulnerability Index(EVI), 2004\n",
    "#loading libraries\n",
    "import requests\n",
    "import plotly.plotly as py\n",
    "import pandas as pd\n",
    "import matplotlib.pyplot as plt\n",
    "import seaborn as sns\n",
    "import string as str\n",
    "import statistics as stat\n",
    "import plotly.figure_factory as ff\n",
    "import plotly.graph_objs as go\n",
    "%matplotlib inline\n",
    "\n",
    "plt.rcParams['figure.figsize'] = (8, 6)\n",
    "plt.rcParams['font.size'] = 14\n",
    "\n"
   ]
  },
  {
   "cell_type": "code",
   "execution_count": 6,
   "metadata": {
    "collapsed": false
   },
   "outputs": [
    {
     "data": {
      "text/plain": [
       "['Country Code',\n",
       " 'ISO2',\n",
       " 'FIPS_10',\n",
       " 'UNSD',\n",
       " 'Country_Standard',\n",
       " 'Country_EVI',\n",
       " 'EVI',\n",
       " 'HAZARDS',\n",
       " 'RESISTANCE',\n",
       " 'DAMAGE',\n",
       " 'CCEVI',\n",
       " 'ENDEVI',\n",
       " 'HHEVI',\n",
       " 'AFEVI',\n",
       " 'WATEVI',\n",
       " 'CCDEVI',\n",
       " 'CBDEVI',\n",
       " 'WINDEVI',\n",
       " 'DRYEVI',\n",
       " 'WETEVI',\n",
       " 'HOTEVI',\n",
       " 'COLDEVI',\n",
       " 'SSTEVI',\n",
       " 'VOLCANOEVI',\n",
       " 'EARTHQKEVI',\n",
       " 'TSUNAMIEVI',\n",
       " 'SLIDESEVI',\n",
       " 'LANDEVI',\n",
       " 'DISPEVI',\n",
       " 'ISOLEVI',\n",
       " 'RELIEFEVI',\n",
       " 'LOWEVI',\n",
       " 'BORDEVI',\n",
       " 'IMBALEVI',\n",
       " 'OPENEVI',\n",
       " 'MIGEVI',\n",
       " 'ENDEMEVI',\n",
       " 'INTROEVI',\n",
       " 'ENDANGEVI',\n",
       " 'EXTINCTEVI',\n",
       " 'VEGEVI',\n",
       " 'VEGLOEVI',\n",
       " 'FRAGEVI',\n",
       " 'DEGEVI',\n",
       " 'RESRVEVI',\n",
       " 'MPAEVI',\n",
       " 'FARMEVI',\n",
       " 'FERTLEVI',\n",
       " 'PESTCDEVI',\n",
       " 'BIOTECHEVI',\n",
       " 'PRDOFEVI',\n",
       " 'FSHEFEVI',\n",
       " 'WATEREVI',\n",
       " 'SULPHEVI',\n",
       " 'WASTEEVI',\n",
       " 'TRTMNTEVI',\n",
       " 'INDUSTEVI',\n",
       " 'SPILLSEVI',\n",
       " 'MININGEVI',\n",
       " 'SANEVI',\n",
       " 'VEHEVI',\n",
       " 'POPDNEVI',\n",
       " 'POPGRTHEVI',\n",
       " 'TOUREVI',\n",
       " 'CSTPOPEVI',\n",
       " 'AGRMTEVI',\n",
       " 'CONFLTEVI',\n",
       " 'WIND',\n",
       " 'DRY',\n",
       " 'WET',\n",
       " 'HOT',\n",
       " 'COLD',\n",
       " 'SST',\n",
       " 'VOLCANO',\n",
       " 'EARTHQK',\n",
       " 'TSUNAMI',\n",
       " 'SLIDES',\n",
       " 'LAND',\n",
       " 'DISP',\n",
       " 'ISOL',\n",
       " 'RELIEF',\n",
       " 'LOW',\n",
       " 'BORD',\n",
       " 'IMBAL',\n",
       " 'OPEN',\n",
       " 'MIG',\n",
       " 'ENDEM',\n",
       " 'INTRO',\n",
       " 'ENDANG',\n",
       " 'EXTINCT',\n",
       " 'VEG',\n",
       " 'VEGLO',\n",
       " 'FRAG',\n",
       " 'DEG',\n",
       " 'RESRV',\n",
       " 'MPA',\n",
       " 'FARM',\n",
       " 'FERTL',\n",
       " 'PESTCD',\n",
       " 'BIOTECH',\n",
       " 'PRDOF',\n",
       " 'FSHEF',\n",
       " 'WATER',\n",
       " 'SULPH',\n",
       " 'WASTE',\n",
       " 'TRTMNT',\n",
       " 'INDUST',\n",
       " 'SPILLS',\n",
       " 'MINING',\n",
       " 'SAN',\n",
       " 'VEH',\n",
       " 'POPDN',\n",
       " 'POPGRTH',\n",
       " 'TOUR',\n",
       " 'CSTPOP',\n",
       " 'AGRMT',\n",
       " 'CONFLT']"
      ]
     },
     "execution_count": 6,
     "metadata": {},
     "output_type": "execute_result"
    }
   ],
   "source": [
    "#loading the file and checking values\n",
    "\n",
    "EVI = pd.read_excel('EVI_04.xls')\n",
    "EFC = pd.read_excel('EFC_04.xls')\n",
    "EVI.head()\n",
    "EFC.head()\n",
    "EVI.head().values\n",
    "EFC.head().values\n",
    "list(EVI)"
   ]
  },
  {
   "cell_type": "code",
   "execution_count": 7,
   "metadata": {
    "collapsed": false
   },
   "outputs": [
    {
     "data": {
      "text/plain": [
       "Country Name           object\n",
       "Short Name             object\n",
       "year                    int64\n",
       "Record                 object\n",
       "Built-up Land         float64\n",
       "Carbon                float64\n",
       "Cropland              float64\n",
       "Fishing Grounds       float64\n",
       "Forest Products       float64\n",
       "Grazing Land          float64\n",
       "Total                 float64\n",
       "Data Quality Score     object\n",
       "isoa2                  object\n",
       "dtype: object"
      ]
     },
     "execution_count": 7,
     "metadata": {},
     "output_type": "execute_result"
    }
   ],
   "source": [
    "#looking at the data types\n",
    "EVI.dtypes\n",
    "EFC.dtypes"
   ]
  },
  {
   "cell_type": "code",
   "execution_count": 8,
   "metadata": {
    "collapsed": true
   },
   "outputs": [],
   "source": [
    "\n",
    "#converting NaNs to zeros\n",
    "\n",
    "EVI.fillna(0, inplace=True)\n",
    "EFC.fillna(0, inplace=True)"
   ]
  },
  {
   "cell_type": "code",
   "execution_count": 10,
   "metadata": {
    "collapsed": false
   },
   "outputs": [
    {
     "data": {
      "text/plain": [
       "Country Code\n",
       "ASM    446.154\n",
       "AUT    369.048\n",
       "BEL    387.234\n",
       "BMU    373.077\n",
       "BRB    402.857\n",
       "COK    382.927\n",
       "FSM    391.892\n",
       "GBR    372.917\n",
       "GLP    412.000\n",
       "GUM    390.323\n",
       "IND    384.783\n",
       "ISR    380.000\n",
       "ITA    385.714\n",
       "JAM    380.851\n",
       "JPN    389.362\n",
       "KIR    385.366\n",
       "KOR    372.917\n",
       "LBN    387.234\n",
       "LCA    393.103\n",
       "MAC    407.407\n",
       "MDV    382.759\n",
       "MLT    367.647\n",
       "MNP    378.261\n",
       "NFK    368.182\n",
       "NLD    387.755\n",
       "NRU    421.053\n",
       "PAK    373.333\n",
       "PHL    402.128\n",
       "PYF    380.645\n",
       "SGP    428.261\n",
       "TON    400.000\n",
       "VGB    381.818\n",
       "VIR    395.652\n",
       "Name: EVI, dtype: float64"
      ]
     },
     "execution_count": 10,
     "metadata": {},
     "output_type": "execute_result"
    }
   ],
   "source": [
    "#Exploratory Data Analysis (EDA): Environmental Vunerability Index (EVI)\n",
    "\n",
    "list(EVI)\n",
    "#Identifying the nations ranked as extremely vulnerable \n",
    "\n",
    "EVI_subset = EVI[EVI.EVI >= 365]\n",
    "\n",
    "EVI_subset\n",
    "\n",
    "#Overall Extremely Vulnerable Nations \n",
    "\n",
    "EVI_summary = EVI_subset.groupby(['Country Code'])['EVI'].mean()\n",
    "\n",
    "EVI_summary"
   ]
  },
  {
   "cell_type": "code",
   "execution_count": 11,
   "metadata": {
    "collapsed": false
   },
   "outputs": [
    {
     "data": {
      "text/html": [
       "<div>\n",
       "<table border=\"1\" class=\"dataframe\">\n",
       "  <thead>\n",
       "    <tr style=\"text-align: right;\">\n",
       "      <th></th>\n",
       "      <th>CSTPOP</th>\n",
       "      <th>POPDN</th>\n",
       "    </tr>\n",
       "    <tr>\n",
       "      <th>Country Code</th>\n",
       "      <th></th>\n",
       "      <th></th>\n",
       "    </tr>\n",
       "  </thead>\n",
       "  <tbody>\n",
       "    <tr>\n",
       "      <th>ASM</th>\n",
       "      <td>0.0</td>\n",
       "      <td>308.543</td>\n",
       "    </tr>\n",
       "    <tr>\n",
       "      <th>AUT</th>\n",
       "      <td>0.0</td>\n",
       "      <td>99.251</td>\n",
       "    </tr>\n",
       "    <tr>\n",
       "      <th>BEL</th>\n",
       "      <td>1110.0</td>\n",
       "      <td>336.123</td>\n",
       "    </tr>\n",
       "    <tr>\n",
       "      <th>BMU</th>\n",
       "      <td>0.0</td>\n",
       "      <td>1079.980</td>\n",
       "    </tr>\n",
       "    <tr>\n",
       "      <th>BRB</th>\n",
       "      <td>0.0</td>\n",
       "      <td>640.302</td>\n",
       "    </tr>\n",
       "    <tr>\n",
       "      <th>COK</th>\n",
       "      <td>80.0</td>\n",
       "      <td>74.167</td>\n",
       "    </tr>\n",
       "    <tr>\n",
       "      <th>FSM</th>\n",
       "      <td>150.0</td>\n",
       "      <td>160.399</td>\n",
       "    </tr>\n",
       "    <tr>\n",
       "      <th>GBR</th>\n",
       "      <td>240.0</td>\n",
       "      <td>243.502</td>\n",
       "    </tr>\n",
       "    <tr>\n",
       "      <th>GLP</th>\n",
       "      <td>0.0</td>\n",
       "      <td>252.737</td>\n",
       "    </tr>\n",
       "    <tr>\n",
       "      <th>GUM</th>\n",
       "      <td>287.0</td>\n",
       "      <td>286.989</td>\n",
       "    </tr>\n",
       "    <tr>\n",
       "      <th>IND</th>\n",
       "      <td>155.0</td>\n",
       "      <td>340.934</td>\n",
       "    </tr>\n",
       "    <tr>\n",
       "      <th>ISR</th>\n",
       "      <td>293.0</td>\n",
       "      <td>301.503</td>\n",
       "    </tr>\n",
       "    <tr>\n",
       "      <th>ITA</th>\n",
       "      <td>154.0</td>\n",
       "      <td>194.851</td>\n",
       "    </tr>\n",
       "    <tr>\n",
       "      <th>JAM</th>\n",
       "      <td>239.0</td>\n",
       "      <td>238.504</td>\n",
       "    </tr>\n",
       "    <tr>\n",
       "      <th>JPN</th>\n",
       "      <td>324.0</td>\n",
       "      <td>336.540</td>\n",
       "    </tr>\n",
       "    <tr>\n",
       "      <th>KIR</th>\n",
       "      <td>108.0</td>\n",
       "      <td>122.873</td>\n",
       "    </tr>\n",
       "    <tr>\n",
       "      <th>KOR</th>\n",
       "      <td>474.0</td>\n",
       "      <td>474.466</td>\n",
       "    </tr>\n",
       "    <tr>\n",
       "      <th>LBN</th>\n",
       "      <td>321.0</td>\n",
       "      <td>320.821</td>\n",
       "    </tr>\n",
       "    <tr>\n",
       "      <th>LCA</th>\n",
       "      <td>0.0</td>\n",
       "      <td>259.308</td>\n",
       "    </tr>\n",
       "    <tr>\n",
       "      <th>MAC</th>\n",
       "      <td>0.0</td>\n",
       "      <td>21606.330</td>\n",
       "    </tr>\n",
       "    <tr>\n",
       "      <th>MDV</th>\n",
       "      <td>0.0</td>\n",
       "      <td>1035.880</td>\n",
       "    </tr>\n",
       "    <tr>\n",
       "      <th>MLT</th>\n",
       "      <td>1249.0</td>\n",
       "      <td>1248.680</td>\n",
       "    </tr>\n",
       "    <tr>\n",
       "      <th>MNP</th>\n",
       "      <td>156.0</td>\n",
       "      <td>156.419</td>\n",
       "    </tr>\n",
       "    <tr>\n",
       "      <th>NFK</th>\n",
       "      <td>54.0</td>\n",
       "      <td>54.306</td>\n",
       "    </tr>\n",
       "    <tr>\n",
       "      <th>NLD</th>\n",
       "      <td>435.0</td>\n",
       "      <td>465.389</td>\n",
       "    </tr>\n",
       "    <tr>\n",
       "      <th>NRU</th>\n",
       "      <td>472.0</td>\n",
       "      <td>576.190</td>\n",
       "    </tr>\n",
       "    <tr>\n",
       "      <th>PAK</th>\n",
       "      <td>55.0</td>\n",
       "      <td>202.993</td>\n",
       "    </tr>\n",
       "    <tr>\n",
       "      <th>PHL</th>\n",
       "      <td>257.0</td>\n",
       "      <td>256.561</td>\n",
       "    </tr>\n",
       "    <tr>\n",
       "      <th>PYF</th>\n",
       "      <td>69.0</td>\n",
       "      <td>68.306</td>\n",
       "    </tr>\n",
       "    <tr>\n",
       "      <th>SGP</th>\n",
       "      <td>5848.0</td>\n",
       "      <td>5847.540</td>\n",
       "    </tr>\n",
       "    <tr>\n",
       "      <th>TON</th>\n",
       "      <td>136.0</td>\n",
       "      <td>141.643</td>\n",
       "    </tr>\n",
       "    <tr>\n",
       "      <th>VGB</th>\n",
       "      <td>0.0</td>\n",
       "      <td>138.747</td>\n",
       "    </tr>\n",
       "    <tr>\n",
       "      <th>VIR</th>\n",
       "      <td>0.0</td>\n",
       "      <td>350.175</td>\n",
       "    </tr>\n",
       "  </tbody>\n",
       "</table>\n",
       "</div>"
      ],
      "text/plain": [
       "              CSTPOP      POPDN\n",
       "Country Code                   \n",
       "ASM              0.0    308.543\n",
       "AUT              0.0     99.251\n",
       "BEL           1110.0    336.123\n",
       "BMU              0.0   1079.980\n",
       "BRB              0.0    640.302\n",
       "COK             80.0     74.167\n",
       "FSM            150.0    160.399\n",
       "GBR            240.0    243.502\n",
       "GLP              0.0    252.737\n",
       "GUM            287.0    286.989\n",
       "IND            155.0    340.934\n",
       "ISR            293.0    301.503\n",
       "ITA            154.0    194.851\n",
       "JAM            239.0    238.504\n",
       "JPN            324.0    336.540\n",
       "KIR            108.0    122.873\n",
       "KOR            474.0    474.466\n",
       "LBN            321.0    320.821\n",
       "LCA              0.0    259.308\n",
       "MAC              0.0  21606.330\n",
       "MDV              0.0   1035.880\n",
       "MLT           1249.0   1248.680\n",
       "MNP            156.0    156.419\n",
       "NFK             54.0     54.306\n",
       "NLD            435.0    465.389\n",
       "NRU            472.0    576.190\n",
       "PAK             55.0    202.993\n",
       "PHL            257.0    256.561\n",
       "PYF             69.0     68.306\n",
       "SGP           5848.0   5847.540\n",
       "TON            136.0    141.643\n",
       "VGB              0.0    138.747\n",
       "VIR              0.0    350.175"
      ]
     },
     "execution_count": 11,
     "metadata": {},
     "output_type": "execute_result"
    }
   ],
   "source": [
    "#Analyses of Key Aggregate Variables: Climate Change Sub-Index, \n",
    "#Biodiversity Sub-Index, & Conflict Subindex\n",
    "\n",
    "Aggregates = EVI_subset.groupby(['Country Code'])['CCEVI', 'CBDEVI', \n",
    "                               'CONFLTEVI',].mean()\n",
    "Aggregates\n",
    "\n",
    "#Analyses of Overall Population Density versus Costal Population Density\n",
    "\n",
    "\n",
    "PopDensity = EVI_subset.groupby(['Country Code'])['CSTPOP', 'POPDN'].mean()\n",
    "\n",
    "PopDensity"
   ]
  },
  {
   "cell_type": "code",
   "execution_count": 12,
   "metadata": {
    "collapsed": false
   },
   "outputs": [
    {
     "data": {
      "text/html": [
       "<div>\n",
       "<table border=\"1\" class=\"dataframe\">\n",
       "  <thead>\n",
       "    <tr style=\"text-align: right;\">\n",
       "      <th></th>\n",
       "      <th>HAZARDS</th>\n",
       "      <th>DAMAGE</th>\n",
       "      <th>SSTEVI</th>\n",
       "      <th>POPDNEVI</th>\n",
       "      <th>CSTPOPEVI</th>\n",
       "    </tr>\n",
       "    <tr>\n",
       "      <th>Country Code</th>\n",
       "      <th></th>\n",
       "      <th></th>\n",
       "      <th></th>\n",
       "      <th></th>\n",
       "      <th></th>\n",
       "    </tr>\n",
       "  </thead>\n",
       "  <tbody>\n",
       "    <tr>\n",
       "      <th>ASM</th>\n",
       "      <td>3.308</td>\n",
       "      <td>6.143</td>\n",
       "      <td>3.0</td>\n",
       "      <td>7.0</td>\n",
       "      <td>0.0</td>\n",
       "    </tr>\n",
       "    <tr>\n",
       "      <th>AUT</th>\n",
       "      <td>3.962</td>\n",
       "      <td>3.667</td>\n",
       "      <td>0.0</td>\n",
       "      <td>5.0</td>\n",
       "      <td>0.0</td>\n",
       "    </tr>\n",
       "    <tr>\n",
       "      <th>BEL</th>\n",
       "      <td>3.931</td>\n",
       "      <td>4.727</td>\n",
       "      <td>6.0</td>\n",
       "      <td>7.0</td>\n",
       "      <td>7.0</td>\n",
       "    </tr>\n",
       "    <tr>\n",
       "      <th>BMU</th>\n",
       "      <td>2.923</td>\n",
       "      <td>4.714</td>\n",
       "      <td>4.0</td>\n",
       "      <td>7.0</td>\n",
       "      <td>0.0</td>\n",
       "    </tr>\n",
       "    <tr>\n",
       "      <th>BRB</th>\n",
       "      <td>3.200</td>\n",
       "      <td>5.750</td>\n",
       "      <td>1.0</td>\n",
       "      <td>7.0</td>\n",
       "      <td>0.0</td>\n",
       "    </tr>\n",
       "    <tr>\n",
       "      <th>COK</th>\n",
       "      <td>3.074</td>\n",
       "      <td>4.857</td>\n",
       "      <td>2.0</td>\n",
       "      <td>4.0</td>\n",
       "      <td>4.0</td>\n",
       "    </tr>\n",
       "    <tr>\n",
       "      <th>FSM</th>\n",
       "      <td>3.136</td>\n",
       "      <td>5.000</td>\n",
       "      <td>2.0</td>\n",
       "      <td>6.0</td>\n",
       "      <td>6.0</td>\n",
       "    </tr>\n",
       "    <tr>\n",
       "      <th>GBR</th>\n",
       "      <td>3.833</td>\n",
       "      <td>4.182</td>\n",
       "      <td>4.0</td>\n",
       "      <td>6.0</td>\n",
       "      <td>6.0</td>\n",
       "    </tr>\n",
       "    <tr>\n",
       "      <th>GLP</th>\n",
       "      <td>3.417</td>\n",
       "      <td>5.429</td>\n",
       "      <td>2.0</td>\n",
       "      <td>7.0</td>\n",
       "      <td>0.0</td>\n",
       "    </tr>\n",
       "    <tr>\n",
       "      <th>GUM</th>\n",
       "      <td>2.833</td>\n",
       "      <td>6.143</td>\n",
       "      <td>4.0</td>\n",
       "      <td>7.0</td>\n",
       "      <td>7.0</td>\n",
       "    </tr>\n",
       "    <tr>\n",
       "      <th>IND</th>\n",
       "      <td>3.786</td>\n",
       "      <td>5.000</td>\n",
       "      <td>3.0</td>\n",
       "      <td>7.0</td>\n",
       "      <td>6.0</td>\n",
       "    </tr>\n",
       "    <tr>\n",
       "      <th>ISR</th>\n",
       "      <td>3.556</td>\n",
       "      <td>5.000</td>\n",
       "      <td>5.0</td>\n",
       "      <td>7.0</td>\n",
       "      <td>7.0</td>\n",
       "    </tr>\n",
       "    <tr>\n",
       "      <th>ITA</th>\n",
       "      <td>4.065</td>\n",
       "      <td>3.727</td>\n",
       "      <td>5.0</td>\n",
       "      <td>6.0</td>\n",
       "      <td>6.0</td>\n",
       "    </tr>\n",
       "    <tr>\n",
       "      <th>JAM</th>\n",
       "      <td>3.241</td>\n",
       "      <td>5.000</td>\n",
       "      <td>2.0</td>\n",
       "      <td>6.0</td>\n",
       "      <td>6.0</td>\n",
       "    </tr>\n",
       "    <tr>\n",
       "      <th>JPN</th>\n",
       "      <td>4.379</td>\n",
       "      <td>3.636</td>\n",
       "      <td>4.0</td>\n",
       "      <td>7.0</td>\n",
       "      <td>7.0</td>\n",
       "    </tr>\n",
       "    <tr>\n",
       "      <th>KIR</th>\n",
       "      <td>3.320</td>\n",
       "      <td>4.222</td>\n",
       "      <td>4.0</td>\n",
       "      <td>5.0</td>\n",
       "      <td>5.0</td>\n",
       "    </tr>\n",
       "    <tr>\n",
       "      <th>KOR</th>\n",
       "      <td>4.032</td>\n",
       "      <td>3.909</td>\n",
       "      <td>5.0</td>\n",
       "      <td>7.0</td>\n",
       "      <td>7.0</td>\n",
       "    </tr>\n",
       "    <tr>\n",
       "      <th>LBN</th>\n",
       "      <td>3.966</td>\n",
       "      <td>4.364</td>\n",
       "      <td>6.0</td>\n",
       "      <td>7.0</td>\n",
       "      <td>7.0</td>\n",
       "    </tr>\n",
       "    <tr>\n",
       "      <th>LCA</th>\n",
       "      <td>3.200</td>\n",
       "      <td>5.125</td>\n",
       "      <td>2.0</td>\n",
       "      <td>7.0</td>\n",
       "      <td>0.0</td>\n",
       "    </tr>\n",
       "    <tr>\n",
       "      <th>MAC</th>\n",
       "      <td>3.600</td>\n",
       "      <td>5.000</td>\n",
       "      <td>5.0</td>\n",
       "      <td>7.0</td>\n",
       "      <td>0.0</td>\n",
       "    </tr>\n",
       "    <tr>\n",
       "      <th>MDV</th>\n",
       "      <td>3.188</td>\n",
       "      <td>4.429</td>\n",
       "      <td>4.0</td>\n",
       "      <td>7.0</td>\n",
       "      <td>0.0</td>\n",
       "    </tr>\n",
       "    <tr>\n",
       "      <th>MLT</th>\n",
       "      <td>3.158</td>\n",
       "      <td>4.889</td>\n",
       "      <td>5.0</td>\n",
       "      <td>7.0</td>\n",
       "      <td>7.0</td>\n",
       "    </tr>\n",
       "    <tr>\n",
       "      <th>MNP</th>\n",
       "      <td>1.900</td>\n",
       "      <td>5.714</td>\n",
       "      <td>4.0</td>\n",
       "      <td>6.0</td>\n",
       "      <td>6.0</td>\n",
       "    </tr>\n",
       "    <tr>\n",
       "      <th>NFK</th>\n",
       "      <td>2.333</td>\n",
       "      <td>4.000</td>\n",
       "      <td>3.0</td>\n",
       "      <td>4.0</td>\n",
       "      <td>4.0</td>\n",
       "    </tr>\n",
       "    <tr>\n",
       "      <th>NLD</th>\n",
       "      <td>4.452</td>\n",
       "      <td>3.818</td>\n",
       "      <td>6.0</td>\n",
       "      <td>7.0</td>\n",
       "      <td>7.0</td>\n",
       "    </tr>\n",
       "    <tr>\n",
       "      <th>NRU</th>\n",
       "      <td>3.591</td>\n",
       "      <td>5.444</td>\n",
       "      <td>3.0</td>\n",
       "      <td>7.0</td>\n",
       "      <td>7.0</td>\n",
       "    </tr>\n",
       "    <tr>\n",
       "      <th>PAK</th>\n",
       "      <td>3.778</td>\n",
       "      <td>4.182</td>\n",
       "      <td>4.0</td>\n",
       "      <td>6.0</td>\n",
       "      <td>4.0</td>\n",
       "    </tr>\n",
       "    <tr>\n",
       "      <th>PHL</th>\n",
       "      <td>4.172</td>\n",
       "      <td>4.727</td>\n",
       "      <td>3.0</td>\n",
       "      <td>7.0</td>\n",
       "      <td>7.0</td>\n",
       "    </tr>\n",
       "    <tr>\n",
       "      <th>PYF</th>\n",
       "      <td>3.111</td>\n",
       "      <td>5.429</td>\n",
       "      <td>3.0</td>\n",
       "      <td>4.0</td>\n",
       "      <td>4.0</td>\n",
       "    </tr>\n",
       "    <tr>\n",
       "      <th>SGP</th>\n",
       "      <td>3.828</td>\n",
       "      <td>5.700</td>\n",
       "      <td>4.0</td>\n",
       "      <td>7.0</td>\n",
       "      <td>7.0</td>\n",
       "    </tr>\n",
       "    <tr>\n",
       "      <th>TON</th>\n",
       "      <td>3.273</td>\n",
       "      <td>5.125</td>\n",
       "      <td>3.0</td>\n",
       "      <td>5.0</td>\n",
       "      <td>5.0</td>\n",
       "    </tr>\n",
       "    <tr>\n",
       "      <th>VGB</th>\n",
       "      <td>3.200</td>\n",
       "      <td>2.857</td>\n",
       "      <td>2.0</td>\n",
       "      <td>5.0</td>\n",
       "      <td>0.0</td>\n",
       "    </tr>\n",
       "    <tr>\n",
       "      <th>VIR</th>\n",
       "      <td>2.800</td>\n",
       "      <td>4.714</td>\n",
       "      <td>2.0</td>\n",
       "      <td>7.0</td>\n",
       "      <td>0.0</td>\n",
       "    </tr>\n",
       "  </tbody>\n",
       "</table>\n",
       "</div>"
      ],
      "text/plain": [
       "              HAZARDS  DAMAGE  SSTEVI  POPDNEVI  CSTPOPEVI\n",
       "Country Code                                              \n",
       "ASM             3.308   6.143     3.0       7.0        0.0\n",
       "AUT             3.962   3.667     0.0       5.0        0.0\n",
       "BEL             3.931   4.727     6.0       7.0        7.0\n",
       "BMU             2.923   4.714     4.0       7.0        0.0\n",
       "BRB             3.200   5.750     1.0       7.0        0.0\n",
       "COK             3.074   4.857     2.0       4.0        4.0\n",
       "FSM             3.136   5.000     2.0       6.0        6.0\n",
       "GBR             3.833   4.182     4.0       6.0        6.0\n",
       "GLP             3.417   5.429     2.0       7.0        0.0\n",
       "GUM             2.833   6.143     4.0       7.0        7.0\n",
       "IND             3.786   5.000     3.0       7.0        6.0\n",
       "ISR             3.556   5.000     5.0       7.0        7.0\n",
       "ITA             4.065   3.727     5.0       6.0        6.0\n",
       "JAM             3.241   5.000     2.0       6.0        6.0\n",
       "JPN             4.379   3.636     4.0       7.0        7.0\n",
       "KIR             3.320   4.222     4.0       5.0        5.0\n",
       "KOR             4.032   3.909     5.0       7.0        7.0\n",
       "LBN             3.966   4.364     6.0       7.0        7.0\n",
       "LCA             3.200   5.125     2.0       7.0        0.0\n",
       "MAC             3.600   5.000     5.0       7.0        0.0\n",
       "MDV             3.188   4.429     4.0       7.0        0.0\n",
       "MLT             3.158   4.889     5.0       7.0        7.0\n",
       "MNP             1.900   5.714     4.0       6.0        6.0\n",
       "NFK             2.333   4.000     3.0       4.0        4.0\n",
       "NLD             4.452   3.818     6.0       7.0        7.0\n",
       "NRU             3.591   5.444     3.0       7.0        7.0\n",
       "PAK             3.778   4.182     4.0       6.0        4.0\n",
       "PHL             4.172   4.727     3.0       7.0        7.0\n",
       "PYF             3.111   5.429     3.0       4.0        4.0\n",
       "SGP             3.828   5.700     4.0       7.0        7.0\n",
       "TON             3.273   5.125     3.0       5.0        5.0\n",
       "VGB             3.200   2.857     2.0       5.0        0.0\n",
       "VIR             2.800   4.714     2.0       7.0        0.0"
      ]
     },
     "execution_count": 12,
     "metadata": {},
     "output_type": "execute_result"
    }
   ],
   "source": [
    "#Comparison of key EVI subindexes: Hazards, Prior Damage, Sea Temperatures\n",
    "#Population Density, & Coastal Population Density\n",
    "\n",
    "KeyEVI = EVI_subset.groupby(['Country Code'])['HAZARDS', 'DAMAGE', 'SSTEVI',\n",
    "                           'POPDNEVI', 'CSTPOPEVI'].mean()\n",
    "\n",
    "KeyEVI"
   ]
  },
  {
   "cell_type": "code",
   "execution_count": 13,
   "metadata": {
    "collapsed": false
   },
   "outputs": [
    {
     "data": {
      "text/html": [
       "<div>\n",
       "<table border=\"1\" class=\"dataframe\">\n",
       "  <thead>\n",
       "    <tr style=\"text-align: right;\">\n",
       "      <th></th>\n",
       "      <th>year</th>\n",
       "      <th>Built-up Land</th>\n",
       "      <th>Carbon</th>\n",
       "      <th>Cropland</th>\n",
       "      <th>Fishing Grounds</th>\n",
       "      <th>Forest Products</th>\n",
       "      <th>Grazing Land</th>\n",
       "      <th>Total</th>\n",
       "    </tr>\n",
       "  </thead>\n",
       "  <tbody>\n",
       "    <tr>\n",
       "      <th>count</th>\n",
       "      <td>195.0</td>\n",
       "      <td>195.000000</td>\n",
       "      <td>195.000000</td>\n",
       "      <td>195.000000</td>\n",
       "      <td>195.000000</td>\n",
       "      <td>195.000000</td>\n",
       "      <td>195.000000</td>\n",
       "      <td>195.000000</td>\n",
       "    </tr>\n",
       "    <tr>\n",
       "      <th>mean</th>\n",
       "      <td>2004.0</td>\n",
       "      <td>0.054573</td>\n",
       "      <td>1.397627</td>\n",
       "      <td>0.537271</td>\n",
       "      <td>0.115904</td>\n",
       "      <td>0.358672</td>\n",
       "      <td>0.216032</td>\n",
       "      <td>3.155954</td>\n",
       "    </tr>\n",
       "    <tr>\n",
       "      <th>std</th>\n",
       "      <td>0.0</td>\n",
       "      <td>0.051141</td>\n",
       "      <td>1.848418</td>\n",
       "      <td>0.455174</td>\n",
       "      <td>0.259234</td>\n",
       "      <td>0.403086</td>\n",
       "      <td>0.250402</td>\n",
       "      <td>2.443652</td>\n",
       "    </tr>\n",
       "    <tr>\n",
       "      <th>min</th>\n",
       "      <td>2004.0</td>\n",
       "      <td>0.000000</td>\n",
       "      <td>0.000000</td>\n",
       "      <td>0.000000</td>\n",
       "      <td>0.000000</td>\n",
       "      <td>0.000000</td>\n",
       "      <td>0.000000</td>\n",
       "      <td>0.493431</td>\n",
       "    </tr>\n",
       "    <tr>\n",
       "      <th>25%</th>\n",
       "      <td>2004.0</td>\n",
       "      <td>0.023116</td>\n",
       "      <td>0.077295</td>\n",
       "      <td>0.261141</td>\n",
       "      <td>0.009237</td>\n",
       "      <td>0.118318</td>\n",
       "      <td>0.035552</td>\n",
       "      <td>1.337054</td>\n",
       "    </tr>\n",
       "    <tr>\n",
       "      <th>50%</th>\n",
       "      <td>2004.0</td>\n",
       "      <td>0.043222</td>\n",
       "      <td>0.629141</td>\n",
       "      <td>0.421178</td>\n",
       "      <td>0.045259</td>\n",
       "      <td>0.273417</td>\n",
       "      <td>0.144538</td>\n",
       "      <td>2.317191</td>\n",
       "    </tr>\n",
       "    <tr>\n",
       "      <th>75%</th>\n",
       "      <td>2004.0</td>\n",
       "      <td>0.071488</td>\n",
       "      <td>2.235826</td>\n",
       "      <td>0.782228</td>\n",
       "      <td>0.114799</td>\n",
       "      <td>0.457690</td>\n",
       "      <td>0.295883</td>\n",
       "      <td>4.507158</td>\n",
       "    </tr>\n",
       "    <tr>\n",
       "      <th>max</th>\n",
       "      <td>2004.0</td>\n",
       "      <td>0.240486</td>\n",
       "      <td>13.106916</td>\n",
       "      <td>2.496373</td>\n",
       "      <td>3.002247</td>\n",
       "      <td>2.877218</td>\n",
       "      <td>1.567126</td>\n",
       "      <td>15.677856</td>\n",
       "    </tr>\n",
       "  </tbody>\n",
       "</table>\n",
       "</div>"
      ],
      "text/plain": [
       "         year  Built-up Land      Carbon    Cropland  Fishing Grounds  \\\n",
       "count   195.0     195.000000  195.000000  195.000000       195.000000   \n",
       "mean   2004.0       0.054573    1.397627    0.537271         0.115904   \n",
       "std       0.0       0.051141    1.848418    0.455174         0.259234   \n",
       "min    2004.0       0.000000    0.000000    0.000000         0.000000   \n",
       "25%    2004.0       0.023116    0.077295    0.261141         0.009237   \n",
       "50%    2004.0       0.043222    0.629141    0.421178         0.045259   \n",
       "75%    2004.0       0.071488    2.235826    0.782228         0.114799   \n",
       "max    2004.0       0.240486   13.106916    2.496373         3.002247   \n",
       "\n",
       "       Forest Products  Grazing Land       Total  \n",
       "count       195.000000    195.000000  195.000000  \n",
       "mean          0.358672      0.216032    3.155954  \n",
       "std           0.403086      0.250402    2.443652  \n",
       "min           0.000000      0.000000    0.493431  \n",
       "25%           0.118318      0.035552    1.337054  \n",
       "50%           0.273417      0.144538    2.317191  \n",
       "75%           0.457690      0.295883    4.507158  \n",
       "max           2.877218      1.567126   15.677856  "
      ]
     },
     "execution_count": 13,
     "metadata": {},
     "output_type": "execute_result"
    }
   ],
   "source": [
    "#Now, onto analyzing the Ecological Footpriont of Countries (Per Capita)\n",
    "\n",
    "#Looking at summary statistics to determine how to best subset the EFC data\n",
    "\n",
    "EFC.describe()"
   ]
  },
  {
   "cell_type": "code",
   "execution_count": 14,
   "metadata": {
    "collapsed": false
   },
   "outputs": [
    {
     "data": {
      "text/plain": [
       "Country Name\n",
       "Australia                    10.116249\n",
       "Australia and New Zealand     9.410728\n",
       "Belgium                       7.532457\n",
       "Canada                        9.276513\n",
       "Czech Republic                7.266521\n",
       "Denmark                       8.170773\n",
       "Estonia                       9.111093\n",
       "Finland                       7.106401\n",
       "Luxembourg                   15.677856\n",
       "North America                10.558681\n",
       "Oceania                       7.744075\n",
       "Singapore                     7.572001\n",
       "United States of America     10.699176\n",
       "Name: Total, dtype: float64"
      ]
     },
     "execution_count": 14,
     "metadata": {},
     "output_type": "execute_result"
    }
   ],
   "source": [
    "#subsetting based on estimated median to identify natiosn with the largest\n",
    "#ecological footprint\n",
    "\n",
    "EFC_subset = EFC[EFC.Total >= 7]\n",
    "\n",
    "\n",
    "EFC_subset\n",
    "\n",
    "EFC_summary = EFC_subset.groupby(['Country Name']) ['Total'].mean()\n",
    "\n",
    "EFC_summary"
   ]
  },
  {
   "cell_type": "code",
   "execution_count": 15,
   "metadata": {
    "collapsed": false
   },
   "outputs": [
    {
     "data": {
      "text/html": [
       "<div>\n",
       "<table border=\"1\" class=\"dataframe\">\n",
       "  <thead>\n",
       "    <tr style=\"text-align: right;\">\n",
       "      <th></th>\n",
       "      <th>Built-up Land</th>\n",
       "      <th>Carbon</th>\n",
       "      <th>Cropland</th>\n",
       "      <th>Fishing Grounds</th>\n",
       "      <th>Forest Products</th>\n",
       "      <th>Grazing Land</th>\n",
       "    </tr>\n",
       "    <tr>\n",
       "      <th>Country Name</th>\n",
       "      <th></th>\n",
       "      <th></th>\n",
       "      <th></th>\n",
       "      <th></th>\n",
       "      <th></th>\n",
       "      <th></th>\n",
       "    </tr>\n",
       "  </thead>\n",
       "  <tbody>\n",
       "    <tr>\n",
       "      <th>Australia</th>\n",
       "      <td>0.115728</td>\n",
       "      <td>5.361859</td>\n",
       "      <td>2.496373</td>\n",
       "      <td>0.146986</td>\n",
       "      <td>1.203011</td>\n",
       "      <td>0.792292</td>\n",
       "    </tr>\n",
       "    <tr>\n",
       "      <th>Australia and New Zealand</th>\n",
       "      <td>0.116742</td>\n",
       "      <td>4.902294</td>\n",
       "      <td>2.155991</td>\n",
       "      <td>0.293326</td>\n",
       "      <td>1.228007</td>\n",
       "      <td>0.714368</td>\n",
       "    </tr>\n",
       "    <tr>\n",
       "      <th>Belgium</th>\n",
       "      <td>0.240486</td>\n",
       "      <td>4.967345</td>\n",
       "      <td>1.004497</td>\n",
       "      <td>0.115144</td>\n",
       "      <td>0.597377</td>\n",
       "      <td>0.607607</td>\n",
       "    </tr>\n",
       "    <tr>\n",
       "      <th>Canada</th>\n",
       "      <td>0.059541</td>\n",
       "      <td>5.604153</td>\n",
       "      <td>1.736464</td>\n",
       "      <td>0.211607</td>\n",
       "      <td>1.377096</td>\n",
       "      <td>0.287653</td>\n",
       "    </tr>\n",
       "    <tr>\n",
       "      <th>Czech Republic</th>\n",
       "      <td>0.149956</td>\n",
       "      <td>4.831287</td>\n",
       "      <td>1.115468</td>\n",
       "      <td>0.036875</td>\n",
       "      <td>0.816970</td>\n",
       "      <td>0.315964</td>\n",
       "    </tr>\n",
       "    <tr>\n",
       "      <th>Denmark</th>\n",
       "      <td>0.220401</td>\n",
       "      <td>4.012283</td>\n",
       "      <td>1.407048</td>\n",
       "      <td>0.845231</td>\n",
       "      <td>1.214849</td>\n",
       "      <td>0.470963</td>\n",
       "    </tr>\n",
       "    <tr>\n",
       "      <th>Estonia</th>\n",
       "      <td>0.087198</td>\n",
       "      <td>4.985464</td>\n",
       "      <td>1.369403</td>\n",
       "      <td>0.081429</td>\n",
       "      <td>2.443062</td>\n",
       "      <td>0.144538</td>\n",
       "    </tr>\n",
       "    <tr>\n",
       "      <th>Finland</th>\n",
       "      <td>0.000000</td>\n",
       "      <td>0.000000</td>\n",
       "      <td>0.000000</td>\n",
       "      <td>0.000000</td>\n",
       "      <td>0.000000</td>\n",
       "      <td>0.000000</td>\n",
       "    </tr>\n",
       "    <tr>\n",
       "      <th>Luxembourg</th>\n",
       "      <td>0.179261</td>\n",
       "      <td>13.106916</td>\n",
       "      <td>1.289838</td>\n",
       "      <td>0.110087</td>\n",
       "      <td>0.348611</td>\n",
       "      <td>0.643144</td>\n",
       "    </tr>\n",
       "    <tr>\n",
       "      <th>North America</th>\n",
       "      <td>0.086219</td>\n",
       "      <td>7.320538</td>\n",
       "      <td>1.330341</td>\n",
       "      <td>0.130212</td>\n",
       "      <td>1.312345</td>\n",
       "      <td>0.377887</td>\n",
       "    </tr>\n",
       "    <tr>\n",
       "      <th>Oceania</th>\n",
       "      <td>0.090688</td>\n",
       "      <td>3.803360</td>\n",
       "      <td>1.674785</td>\n",
       "      <td>0.250714</td>\n",
       "      <td>0.958938</td>\n",
       "      <td>0.561899</td>\n",
       "    </tr>\n",
       "    <tr>\n",
       "      <th>Singapore</th>\n",
       "      <td>0.022614</td>\n",
       "      <td>6.102899</td>\n",
       "      <td>0.436150</td>\n",
       "      <td>0.212540</td>\n",
       "      <td>0.559027</td>\n",
       "      <td>0.238772</td>\n",
       "    </tr>\n",
       "    <tr>\n",
       "      <th>United States of America</th>\n",
       "      <td>0.089139</td>\n",
       "      <td>7.508797</td>\n",
       "      <td>1.286473</td>\n",
       "      <td>0.121390</td>\n",
       "      <td>1.305594</td>\n",
       "      <td>0.387783</td>\n",
       "    </tr>\n",
       "  </tbody>\n",
       "</table>\n",
       "</div>"
      ],
      "text/plain": [
       "                           Built-up Land     Carbon  Cropland  \\\n",
       "Country Name                                                    \n",
       "Australia                       0.115728   5.361859  2.496373   \n",
       "Australia and New Zealand       0.116742   4.902294  2.155991   \n",
       "Belgium                         0.240486   4.967345  1.004497   \n",
       "Canada                          0.059541   5.604153  1.736464   \n",
       "Czech Republic                  0.149956   4.831287  1.115468   \n",
       "Denmark                         0.220401   4.012283  1.407048   \n",
       "Estonia                         0.087198   4.985464  1.369403   \n",
       "Finland                         0.000000   0.000000  0.000000   \n",
       "Luxembourg                      0.179261  13.106916  1.289838   \n",
       "North America                   0.086219   7.320538  1.330341   \n",
       "Oceania                         0.090688   3.803360  1.674785   \n",
       "Singapore                       0.022614   6.102899  0.436150   \n",
       "United States of America        0.089139   7.508797  1.286473   \n",
       "\n",
       "                           Fishing Grounds  Forest Products  Grazing Land  \n",
       "Country Name                                                               \n",
       "Australia                         0.146986         1.203011      0.792292  \n",
       "Australia and New Zealand         0.293326         1.228007      0.714368  \n",
       "Belgium                           0.115144         0.597377      0.607607  \n",
       "Canada                            0.211607         1.377096      0.287653  \n",
       "Czech Republic                    0.036875         0.816970      0.315964  \n",
       "Denmark                           0.845231         1.214849      0.470963  \n",
       "Estonia                           0.081429         2.443062      0.144538  \n",
       "Finland                           0.000000         0.000000      0.000000  \n",
       "Luxembourg                        0.110087         0.348611      0.643144  \n",
       "North America                     0.130212         1.312345      0.377887  \n",
       "Oceania                           0.250714         0.958938      0.561899  \n",
       "Singapore                         0.212540         0.559027      0.238772  \n",
       "United States of America          0.121390         1.305594      0.387783  "
      ]
     },
     "execution_count": 15,
     "metadata": {},
     "output_type": "execute_result"
    }
   ],
   "source": [
    "#analysis of key EFC Variables\n",
    "\n",
    "KeyEFC = EFC_subset.groupby(['Country Name']) ['Built-up Land', 'Carbon',\n",
    "                           'Cropland', 'Fishing Grounds', 'Forest Products', \n",
    "                           'Grazing Land'].mean()\n",
    "\n",
    "KeyEFC\n"
   ]
  },
  {
   "cell_type": "code",
   "execution_count": 16,
   "metadata": {
    "collapsed": false
   },
   "outputs": [
    {
     "data": {
      "text/plain": [
       "Country Name\n",
       "Afghanistan                          0.044867\n",
       "Africa                               0.363368\n",
       "Albania                              0.935327\n",
       "Algeria                              0.869077\n",
       "Angola                               0.129344\n",
       "Argentina                            1.025107\n",
       "Armenia                              0.569670\n",
       "Asia                                 0.968520\n",
       "Australia                            5.361859\n",
       "Australia and New Zealand            4.902294\n",
       "Austria                              4.308242\n",
       "Azerbaijan                           1.315322\n",
       "Bangladesh                           0.140467\n",
       "Barbados                             2.769120\n",
       "Belarus                              2.224459\n",
       "Belgium                              4.967345\n",
       "Benin                                0.215917\n",
       "Bermuda                              0.000000\n",
       "Bhutan                               0.180271\n",
       "Bolivia                              0.360839\n",
       "Bosnia and Herzegovina               1.443047\n",
       "Botswana                             0.000000\n",
       "Brazil                               0.610072\n",
       "British Virgin Islands               0.000000\n",
       "Bulgaria                             2.217919\n",
       "Burkina Faso                         0.060145\n",
       "Burundi                              0.020960\n",
       "Cabo Verde                           0.000000\n",
       "Cambodia                             0.000000\n",
       "Cameroon                             0.143721\n",
       "                                       ...   \n",
       "Swaziland                            0.000000\n",
       "Sweden                               3.580236\n",
       "Switzerland                          4.012692\n",
       "Syrian Arab Republic                 0.957748\n",
       "Tajikistan                           0.000000\n",
       "Tanzania, United Republic of         0.091466\n",
       "Thailand                             1.164683\n",
       "Timor-Leste                          0.000000\n",
       "Togo                                 0.173368\n",
       "Tonga                                0.734948\n",
       "Trinidad and Tobago                  0.000000\n",
       "Tunisia                              0.909671\n",
       "Turkey                               1.445625\n",
       "Turkmenistan                         0.000000\n",
       "Uganda                               0.040120\n",
       "Ukraine                              2.196267\n",
       "United Kingdom                       4.020779\n",
       "United States of America             7.508797\n",
       "Uruguay                              0.000000\n",
       "Uzbekistan                           1.593411\n",
       "Venezuela, Bolivarian Republic of    1.366062\n",
       "Viet Nam                             0.482454\n",
       "Wallis and Futuna Islands            0.000000\n",
       "Western Africa                       0.200223\n",
       "Western Asia                         1.075989\n",
       "Western Europe                       3.671499\n",
       "World                                1.553294\n",
       "Yemen                                0.398692\n",
       "Zambia                               0.144688\n",
       "Zimbabwe                             0.350223\n",
       "Name: Carbon, dtype: float64"
      ]
     },
     "execution_count": 16,
     "metadata": {},
     "output_type": "execute_result"
    }
   ],
   "source": [
    "#Analysis of Carbon Footprint Per Capita Variable \n",
    "\n",
    "CarbonEFC = EFC.groupby(['Country Name']) ['Carbon'].mean()\n",
    "CarbonEFC"
   ]
  },
  {
   "cell_type": "code",
   "execution_count": 17,
   "metadata": {
    "collapsed": false
   },
   "outputs": [
    {
     "data": {
      "text/plain": [
       "Country Name\n",
       "Luxembourg                   13.106916\n",
       "United States of America      7.508797\n",
       "North America                 7.320538\n",
       "Singapore                     6.102899\n",
       "Canada                        5.604153\n",
       "Australia                     5.361859\n",
       "Estonia                       4.985464\n",
       "Belgium                       4.967345\n",
       "Australia and New Zealand     4.902294\n",
       "Czech Republic                4.831287\n",
       "Netherlands                   4.400272\n",
       "Austria                       4.308242\n",
       "Korea, Republic of            4.159147\n",
       "United Kingdom                4.020779\n",
       "Switzerland                   4.012692\n",
       "Denmark                       4.012283\n",
       "Israel                        3.993764\n",
       "Greece                        3.886418\n",
       "Oceania                       3.803360\n",
       "Japan                         3.769650\n",
       "Name: Carbon, dtype: float64"
      ]
     },
     "execution_count": 17,
     "metadata": {},
     "output_type": "execute_result"
    }
   ],
   "source": [
    "#top per capita carbon footprint \n",
    "\n",
    "CarbonEFC_sort =  CarbonEFC.nlargest(20)\n",
    "CarbonEFC_sort"
   ]
  },
  {
   "cell_type": "code",
   "execution_count": 18,
   "metadata": {
    "collapsed": false
   },
   "outputs": [
    {
     "data": {
      "text/plain": [
       "<matplotlib.text.Text at 0x11162e9b0>"
      ]
     },
     "execution_count": 18,
     "metadata": {},
     "output_type": "execute_result"
    },
    {
     "data": {
      "image/png": "[encoded data removed]",
      "text/plain": [
       "<matplotlib.figure.Figure at 0x111742ba8>"
      ]
     },
     "metadata": {},
     "output_type": "display_data"
    }
   ],
   "source": [
    "#histogram of carbon Footprint\n",
    "CarbonEFC_sort.plot(kind='hist', bins=10, title='Carbon Footprint')\n",
    "plt.xlabel('Country')\n",
    "plt.ylabel('Per Capita Carbon Footprint')"
   ]
  },
  {
   "cell_type": "code",
   "execution_count": 19,
   "metadata": {
    "collapsed": false
   },
   "outputs": [
    {
     "data": {
      "text/plain": [
       "<matplotlib.axes._subplots.AxesSubplot at 0x111773320>"
      ]
     },
     "execution_count": 19,
     "metadata": {},
     "output_type": "execute_result"
    },
    {
     "data": {
      "image/png": "[encoded data removed]",
      "text/plain": [
       "<matplotlib.figure.Figure at 0x111830da0>"
      ]
     },
     "metadata": {},
     "output_type": "display_data"
    }
   ],
   "source": [
    "#series plot of Carbon Footprint per Capita\n",
    "\n",
    "pd.Series(CarbonEFC_sort).plot(kind='barh', title='Carbon')"
   ]
  },
  {
   "cell_type": "code",
   "execution_count": 20,
   "metadata": {
    "collapsed": true
   },
   "outputs": [],
   "source": [
    "#And now, for some plots, using preselected styles\n",
    "\n",
    "\n",
    "plt.style.use('ggplot')\n",
    "plt.style.use('fivethirtyeight')"
   ]
  },
  {
   "cell_type": "code",
   "execution_count": 24,
   "metadata": {
    "collapsed": false
   },
   "outputs": [
    {
     "name": "stderr",
     "output_type": "stream",
     "text": [
      "/Users/nfoster06/anaconda/lib/python3.6/site-packages/statsmodels/nonparametric/kdetools.py:20: VisibleDeprecationWarning:\n",
      "\n",
      "using a non-integer number instead of an integer will result in an error in the future\n",
      "\n"
     ]
    },
    {
     "data": {
      "text/plain": [
       "<matplotlib.axes._subplots.AxesSubplot at 0x1141ebef0>"
      ]
     },
     "execution_count": 24,
     "metadata": {},
     "output_type": "execute_result"
    },
    {
     "data": {
      "image/png": "[encoded data removed]",
      "text/plain": [
       "<matplotlib.figure.Figure at 0x1145bb128>"
      ]
     },
     "metadata": {},
     "output_type": "display_data"
    }
   ],
   "source": [
    "#distribution of Carbon Footprint Only\n",
    "\n",
    "\n",
    "sns.distplot(CarbonEFC)\n",
    "\n"
   ]
  },
  {
   "cell_type": "code",
   "execution_count": 25,
   "metadata": {
    "collapsed": false
   },
   "outputs": [
    {
     "name": "stderr",
     "output_type": "stream",
     "text": [
      "/Users/nfoster06/anaconda/lib/python3.6/site-packages/statsmodels/nonparametric/kdetools.py:20: VisibleDeprecationWarning:\n",
      "\n",
      "using a non-integer number instead of an integer will result in an error in the future\n",
      "\n"
     ]
    },
    {
     "data": {
      "text/plain": [
       "<matplotlib.axes._subplots.AxesSubplot at 0x11473c780>"
      ]
     },
     "execution_count": 25,
     "metadata": {},
     "output_type": "execute_result"
    },
    {
     "data": {
      "image/png": "[encoded data removed]",
      "text/plain": [
       "<matplotlib.figure.Figure at 0x1145bb320>"
      ]
     },
     "metadata": {},
     "output_type": "display_data"
    }
   ],
   "source": [
    "#Distribution of Ecological Footprint of Countries\n",
    "\n",
    "sns.distplot(EFC_summary)"
   ]
  },
  {
   "cell_type": "code",
   "execution_count": 26,
   "metadata": {
    "collapsed": false
   },
   "outputs": [
    {
     "name": "stderr",
     "output_type": "stream",
     "text": [
      "/Users/nfoster06/anaconda/lib/python3.6/site-packages/statsmodels/nonparametric/kdetools.py:20: VisibleDeprecationWarning:\n",
      "\n",
      "using a non-integer number instead of an integer will result in an error in the future\n",
      "\n"
     ]
    },
    {
     "data": {
      "text/plain": [
       "<matplotlib.axes._subplots.AxesSubplot at 0x1148f05f8>"
      ]
     },
     "execution_count": 26,
     "metadata": {},
     "output_type": "execute_result"
    },
    {
     "data": {
      "image/png": "[encoded data removed]",
      "text/plain": [
       "<matplotlib.figure.Figure at 0x1148fb978>"
      ]
     },
     "metadata": {},
     "output_type": "display_data"
    }
   ],
   "source": [
    "#distrinbution of Enviornmental Vulnerability Index among Most Vulnerable Nations\n",
    "\n",
    "sns.distplot(EVI_summary)"
   ]
  },
  {
   "cell_type": "code",
   "execution_count": 28,
   "metadata": {
    "collapsed": false
   },
   "outputs": [
    {
     "data": {
      "text/plain": [
       "Country Code\n",
       "PYF    0.0\n",
       "GUM    0.0\n",
       "ASM    1.0\n",
       "TON    1.0\n",
       "SGP    1.0\n",
       "NRU    1.0\n",
       "NLD    1.0\n",
       "NFK    1.0\n",
       "MNP    1.0\n",
       "MLT    1.0\n",
       "MDV    1.0\n",
       "MAC    1.0\n",
       "LCA    1.0\n",
       "VGB    1.0\n",
       "KIR    1.0\n",
       "KOR    1.0\n",
       "JAM    1.0\n",
       "AUT    1.0\n",
       "BEL    1.0\n",
       "BMU    1.0\n",
       "BRB    1.0\n",
       "JPN    1.0\n",
       "FSM    1.0\n",
       "COK    1.0\n",
       "GLP    1.0\n",
       "ITA    1.0\n",
       "GBR    1.0\n",
       "VIR    1.0\n",
       "LBN    6.0\n",
       "IND    7.0\n",
       "PAK    7.0\n",
       "PHL    7.0\n",
       "ISR    7.0\n",
       "Name: CONFLTEVI, dtype: float64"
      ]
     },
     "execution_count": 28,
     "metadata": {},
     "output_type": "execute_result"
    }
   ],
   "source": [
    "#Aggregate Sub indexes\n",
    "\n",
    "CCsub = EVI_subset.groupby(['Country Code'])['CCEVI'].mean()\n",
    "CCsub.sort_values(ascending=True)\n",
    "\n",
    "CBsub = EVI_subset.groupby(['Country Code'])['CBDEVI'].mean()\n",
    "CBsub.sort_values(ascending=True)\n",
    "\n",
    "Conflict = EVI_subset.groupby(['Country Code'])['CONFLTEVI'].mean()\n",
    "Conflict.sort_values(ascending=True)"
   ]
  },
  {
   "cell_type": "code",
   "execution_count": 29,
   "metadata": {
    "collapsed": false
   },
   "outputs": [
    {
     "name": "stderr",
     "output_type": "stream",
     "text": [
      "/Users/nfoster06/anaconda/lib/python3.6/site-packages/statsmodels/nonparametric/kdetools.py:20: VisibleDeprecationWarning:\n",
      "\n",
      "using a non-integer number instead of an integer will result in an error in the future\n",
      "\n"
     ]
    },
    {
     "data": {
      "text/plain": [
       "<matplotlib.axes._subplots.AxesSubplot at 0x114a8b710>"
      ]
     },
     "execution_count": 29,
     "metadata": {},
     "output_type": "execute_result"
    },
    {
     "data": {
      "image/png": "[encoded data removed]",
      "text/plain": [
       "<matplotlib.figure.Figure at 0x114aab048>"
      ]
     },
     "metadata": {},
     "output_type": "display_data"
    }
   ],
   "source": [
    "sns.distplot(CCsub)"
   ]
  },
  {
   "cell_type": "code",
   "execution_count": 30,
   "metadata": {
    "collapsed": false
   },
   "outputs": [
    {
     "name": "stderr",
     "output_type": "stream",
     "text": [
      "/Users/nfoster06/anaconda/lib/python3.6/site-packages/statsmodels/nonparametric/kdetools.py:20: VisibleDeprecationWarning:\n",
      "\n",
      "using a non-integer number instead of an integer will result in an error in the future\n",
      "\n"
     ]
    },
    {
     "data": {
      "text/plain": [
       "<matplotlib.axes._subplots.AxesSubplot at 0x114c22160>"
      ]
     },
     "execution_count": 30,
     "metadata": {},
     "output_type": "execute_result"
    },
    {
     "data": {
      "image/png": "[encoded data removed]",
      "text/plain": [
       "<matplotlib.figure.Figure at 0x114c586a0>"
      ]
     },
     "metadata": {},
     "output_type": "display_data"
    }
   ],
   "source": [
    "sns.distplot(CBsub)"
   ]
  },
  {
   "cell_type": "code",
   "execution_count": 31,
   "metadata": {
    "collapsed": false
   },
   "outputs": [
    {
     "name": "stderr",
     "output_type": "stream",
     "text": [
      "/Users/nfoster06/anaconda/lib/python3.6/site-packages/statsmodels/nonparametric/kdetools.py:20: VisibleDeprecationWarning:\n",
      "\n",
      "using a non-integer number instead of an integer will result in an error in the future\n",
      "\n"
     ]
    },
    {
     "data": {
      "text/plain": [
       "<matplotlib.axes._subplots.AxesSubplot at 0x1143f0240>"
      ]
     },
     "execution_count": 31,
     "metadata": {},
     "output_type": "execute_result"
    },
    {
     "data": {
      "image/png": "[encoded data removed]",
      "text/plain": [
       "<matplotlib.figure.Figure at 0x11455f128>"
      ]
     },
     "metadata": {},
     "output_type": "display_data"
    }
   ],
   "source": [
    "sns.distplot(Conflict)"
   ]
  },
  {
   "cell_type": "code",
   "execution_count": 32,
   "metadata": {
    "collapsed": false
   },
   "outputs": [
    {
     "data": {
      "text/plain": [
       "<matplotlib.axes._subplots.AxesSubplot at 0x113f3e978>"
      ]
     },
     "execution_count": 32,
     "metadata": {},
     "output_type": "execute_result"
    },
    {
     "data": {
      "image/png": "[encoded data removed]",
      "text/plain": [
       "<matplotlib.figure.Figure at 0x113f7cc18>"
      ]
     },
     "metadata": {},
     "output_type": "display_data"
    }
   ],
   "source": [
    "#barcharts for EVI\n",
    "\n",
    "pd.Series(EVI_summary).plot(kind='barh', title='Environmental Vulnerability Index')"
   ]
  },
  {
   "cell_type": "code",
   "execution_count": 33,
   "metadata": {
    "collapsed": false
   },
   "outputs": [
    {
     "data": {
      "text/plain": [
       "<matplotlib.axes._subplots.AxesSubplot at 0x114d49f28>"
      ]
     },
     "execution_count": 33,
     "metadata": {},
     "output_type": "execute_result"
    },
    {
     "data": {
      "image/png": "[encoded data removed]",
      "text/plain": [
       "<matplotlib.figure.Figure at 0x114d68898>"
      ]
     },
     "metadata": {},
     "output_type": "display_data"
    }
   ],
   "source": [
    "#barcharts for EFC\n",
    "pd.Series(CarbonEFC_sort).plot(kind='barh', title='Carbon')\n",
    "pd.Series(EFC_summary).plot(kind='barh', title='Overall Ecological Footprint')"
   ]
  },
  {
   "cell_type": "code",
   "execution_count": 34,
   "metadata": {
    "collapsed": false
   },
   "outputs": [
    {
     "data": {
      "text/plain": [
       "<matplotlib.axes._subplots.AxesSubplot at 0x114d57e80>"
      ]
     },
     "execution_count": 34,
     "metadata": {},
     "output_type": "execute_result"
    },
    {
     "data": {
      "image/png": "[encoded data removed]",
      "text/plain": [
       "<matplotlib.figure.Figure at 0x114e4a320>"
      ]
     },
     "metadata": {},
     "output_type": "display_data"
    }
   ],
   "source": [
    "#Climate Change Sub-Index Series Chart\n",
    "\n",
    "pd.Series(CCsub).plot(kind='barh', title='Climate Change Sub-Index')"
   ]
  },
  {
   "cell_type": "code",
   "execution_count": 35,
   "metadata": {
    "collapsed": false
   },
   "outputs": [
    {
     "data": {
      "text/plain": [
       "<matplotlib.axes._subplots.AxesSubplot at 0x1152da048>"
      ]
     },
     "execution_count": 35,
     "metadata": {},
     "output_type": "execute_result"
    },
    {
     "data": {
      "image/png": "[encoded data removed]",
      "text/plain": [
       "<matplotlib.figure.Figure at 0x115301710>"
      ]
     },
     "metadata": {},
     "output_type": "display_data"
    }
   ],
   "source": [
    "#Overall Biodiversity Sub-Index Series Chart\n",
    "\n",
    "pd.Series(CBsub).plot(kind='barh', title='Biodiversity Sub-Index')"
   ]
  },
  {
   "cell_type": "code",
   "execution_count": 38,
   "metadata": {
    "collapsed": false
   },
   "outputs": [
    {
     "data": {
      "text/plain": [
       "<matplotlib.axes._subplots.AxesSubplot at 0x11578bda0>"
      ]
     },
     "execution_count": 38,
     "metadata": {},
     "output_type": "execute_result"
    },
    {
     "data": {
      "image/png": "[encoded data removed]",
      "text/plain": [
       "<matplotlib.figure.Figure at 0x1157a09e8>"
      ]
     },
     "metadata": {},
     "output_type": "display_data"
    }
   ],
   "source": [
    "#Overall Biodiversity Sub-Index Series Chart\n",
    "\n",
    "\n",
    "pd.Series(Conflict).plot(kind='barh', title='Conflict Years Sub-Index')"
   ]
  },
  {
   "cell_type": "code",
   "execution_count": null,
   "metadata": {
    "collapsed": true
   },
   "outputs": [],
   "source": []
  }
 ],
 "metadata": {
  "kernelspec": {
   "display_name": "Python 3",
   "language": "python",
   "name": "python3"
  },
  "language_info": {
   "codemirror_mode": {
    "name": "ipython",
    "version": 3
   },
   "file_extension": ".py",
   "mimetype": "text/x-python",
   "name": "python",
   "nbconvert_exporter": "python",
   "pygments_lexer": "ipython3",
   "version": "3.6.0"
  }
 },
 "nbformat": 4,
 "nbformat_minor": 2
}
